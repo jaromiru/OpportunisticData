{
 "cells": [
  {
   "cell_type": "code",
   "execution_count": 1,
   "metadata": {},
   "outputs": [],
   "source": [
    "import pdb\n",
    "import glob\n",
    "\n",
    "import numpy as np\n",
    "import pandas as pd\n",
    "import matplotlib.pyplot as plt\n",
    "from sklearn.ensemble import RandomForestClassifier\n",
    "from sklearn.svm import SVC\n",
    "from sklearn.linear_model import LogisticRegression\n",
    "\n",
    "import nhanes\n",
    "\n",
    "%matplotlib notebook"
   ]
  },
  {
   "cell_type": "code",
   "execution_count": 2,
   "metadata": {},
   "outputs": [
    {
     "name": "stdout",
     "output_type": "stream",
     "text": [
      "Storing to cache: /home/mohammad/Database/CDC/NHANES/cache/index_cache.pkl\n",
      "Processing: DRQ370UQ                                                             AUXR4KL RHQ750C\r"
     ]
    }
   ],
   "source": [
    "TASK = 'heart'#'heart', 'diabetes'\n",
    "DATA_PATH = '/home/mohammad/Database/CDC/NHANES/'\n",
    "\n",
    "nhanes_dataset = nhanes.NHANES(DATA_PATH, None)\n",
    "nhanes_dataset.index(False)\n",
    "if TASK == 'diabetes':\n",
    "    MISSING_THRESHOLD = 0.25\n",
    "    MUINFO_THRESHOLD = 0.0\n",
    "    target_col = 'LBXGLU'\n",
    "    exclude_cols = [target_col, 'LBDSGLSI', 'LBXSGL', 'LBDGLUSI', 'LBXGLUSI', 'LBXGH', 'LBXMC']\n",
    "    include_cols = None#['RIAGENDR', 'RIDAGEYR', 'RIDRETH3', 'RIDRETH1', 'INDHHINC', 'DMDEDUC2', 'BPXSY1', 'BPXDI1', 'BPXSY2', 'BPXDI2', 'BPXSY3', 'BPXDI3', 'BPXSY4', 'BPXDI4', 'BMXBMI', 'BMXWAIST', 'BMXHT', 'BMXLEG', 'BMXWT', 'LBXTC', 'LBXTR', 'LBXFB', 'LBDLDL', 'ALQ101', 'ALQ120Q', 'PAQ605', 'PAQ620', 'PAQ180', 'SLD010H', 'SMQ020', 'SMD030', 'MCQ250A', 'BPQ020']\n",
    "    nhanes_dataset.process_supervised(target_col, exclude_cols, include_cols,\n",
    "                                  nhanes.preproc_cut, [0, 100, 125, 1000], \n",
    "                                  #nhanes.preproc_cut, [0, 100, 1000],\n",
    "                                  MISSING_THRESHOLD, MUINFO_THRESHOLD)\n",
    "elif TASK == 'heart':\n",
    "    MISSING_THRESHOLD = 0.25\n",
    "    MUINFO_THRESHOLD = 0.0\n",
    "    target_col = ['MCQ160B','MCQ160E','MCQ160F']\n",
    "    exclude_cols = target_col + ['MCQ180B', 'MCQ180E', 'MCQ180F']\n",
    "    include_cols = None\n",
    "    def fn_any(df_cols, threshold):\n",
    "        return (df_cols < threshold).any(axis=1)\n",
    "    nhanes_dataset.process_supervised(target_col, exclude_cols, include_cols,\n",
    "                                  fn_any, 1.5, \n",
    "                                  MISSING_THRESHOLD, MUINFO_THRESHOLD)"
   ]
  },
  {
   "cell_type": "code",
   "execution_count": 3,
   "metadata": {},
   "outputs": [
    {
     "data": {
      "text/plain": [
       "0"
      ]
     },
     "execution_count": 3,
     "metadata": {},
     "output_type": "execute_result"
    }
   ],
   "source": [
    "(nhanes_dataset.column_data['MCQ160B']==9).sum()\n",
    "nhanes_dataset.df_targets.isna().sum()"
   ]
  },
  {
   "cell_type": "code",
   "execution_count": 4,
   "metadata": {
    "scrolled": true
   },
   "outputs": [
    {
     "name": "stdout",
     "output_type": "stream",
     "text": [
      "Index(['BMDSTATS#1.0', 'BMDSTATS#2.0', 'BMDSTATS#3.0', 'BMDSTATS#4.0',\n",
      "       'PEASCST1#1.0', 'PEASCST1#2.0', 'PEASCST1#3.0', 'SMAQUEX#2.0',\n",
      "       'PFQ049#1.0', 'PFQ049#2.0',\n",
      "       ...\n",
      "       'SDMVSTRA#127.0', 'SDMVSTRA#128.0', 'SDMVSTRA#129.0', 'SDMVSTRA#130.0',\n",
      "       'SDMVSTRA#131.0', 'SDMVSTRA#132.0', 'SDMVSTRA#133.0',\n",
      "       'PHDSESN#5.397605346934028e-79', 'PHDSESN#1.0', 'PHDSESN#2.0'],\n",
      "      dtype='object', length=245)\n"
     ]
    },
    {
     "data": {
      "text/plain": [
       "(49509, 245)"
      ]
     },
     "execution_count": 4,
     "metadata": {},
     "output_type": "execute_result"
    }
   ],
   "source": [
    "with pd.option_context('display.max_rows', None, 'display.max_columns', None):\n",
    "    pass# print(nhanes_dataset.df_features.describe())\n",
    "print(nhanes_dataset.df_features.columns)\n",
    "nhanes_dataset.df_features.shape"
   ]
  },
  {
   "cell_type": "code",
   "execution_count": 5,
   "metadata": {},
   "outputs": [],
   "source": [
    "dist = nhanes_dataset.get_distribution('test')\n",
    "#dist.__next__()  "
   ]
  },
  {
   "cell_type": "code",
   "execution_count": 6,
   "metadata": {},
   "outputs": [
    {
     "name": "stderr",
     "output_type": "stream",
     "text": [
      "/home/mohammad/Dropbox/Work/sparse/nhanes.py:292: FutureWarning: Method .as_matrix will be removed in a future version. Use .values instead.\n",
      "  dataset_features = self.df_features.as_matrix()\n",
      "/home/mohammad/Dropbox/Work/sparse/nhanes.py:293: FutureWarning: Method .as_matrix will be removed in a future version. Use .values instead.\n",
      "  dataset_targets = self.df_targets.as_matrix()\n"
     ]
    },
    {
     "name": "stdout",
     "output_type": "stream",
     "text": [
      "accu_tst_RFC 0.81\n",
      "accu_tst_SVC 0.81\n",
      "accu_tst_LR 0.795\n"
     ]
    }
   ],
   "source": [
    "features_trn, targets_trn = nhanes_dataset.get_batch(n_size=5000, phase='train', balanced=True)\n",
    "features_tst, targets_tst = nhanes_dataset.get_batch(n_size=200, phase='test', balanced=True)\n",
    "\n",
    "#clf = SVC()\n",
    "clf = RandomForestClassifier(n_estimators=1000)\n",
    "clf.fit(features_trn, targets_trn)\n",
    "preds_tst = clf.predict(features_tst)\n",
    "accu = np.mean(preds_tst==targets_tst)\n",
    "print('accu_tst_RFC', accu)\n",
    "\n",
    "clf = SVC()\n",
    "clf.fit(features_trn, targets_trn)\n",
    "preds_tst = clf.predict(features_tst)\n",
    "accu = np.mean(preds_tst==targets_tst)\n",
    "print('accu_tst_SVC', accu)\n",
    "\n",
    "clf = LogisticRegression()\n",
    "clf.fit(features_trn, targets_trn)\n",
    "preds_tst = clf.predict(features_tst)\n",
    "accu = np.mean(preds_tst==targets_tst)\n",
    "print('accu_tst_LR', accu)"
   ]
  },
  {
   "cell_type": "code",
   "execution_count": 7,
   "metadata": {},
   "outputs": [
    {
     "data": {
      "text/plain": [
       "0.9086226746652124"
      ]
     },
     "execution_count": 7,
     "metadata": {},
     "output_type": "execute_result"
    }
   ],
   "source": [
    "(targets_trn==1).mean()\n",
    "\n",
    "(nhanes_dataset.df_targets == 0).mean()"
   ]
  },
  {
   "cell_type": "code",
   "execution_count": 8,
   "metadata": {},
   "outputs": [
    {
     "name": "stdout",
     "output_type": "stream",
     "text": [
      "Index(['SDMVSTRA#102.0', 'MCQ160C#2.0', 'SDMVSTRA#108.0', 'MCQ160D#1.0',\n",
      "       'SDMVSTRA#92.0', 'RIDAGEYR', 'MCQ160D#2.0', 'MCQ160C#1.0',\n",
      "       'SDMVSTRA#5.0', 'SDMVSTRA#11.0',\n",
      "       ...\n",
      "       'PFQ054#9.0', 'PFQ054#7.0', 'PFQ049#7.0', 'MCQ140#7.0', 'MCQ092#7.0',\n",
      "       'MCQ053#7.0', 'MCQ010#7.0', 'PFQ057#9.0', 'PFQ057#7.0', 'MCQ160G#7.0'],\n",
      "      dtype='object', length=245)\n"
     ]
    },
    {
     "data": {
      "text/plain": [
       "([array([5., 0., 0., 0., 0., 0., 0., 0., 0., 5.]),\n",
       "  array([9.08622675, 0.        , 0.        , 0.        , 0.        ,\n",
       "         0.        , 0.        , 0.        , 0.        , 0.91377325])],\n",
       " array([0. , 0.1, 0.2, 0.3, 0.4, 0.5, 0.6, 0.7, 0.8, 0.9, 1. ]),\n",
       " <a list of 2 Lists of Patches objects>)"
      ]
     },
     "execution_count": 8,
     "metadata": {},
     "output_type": "execute_result"
    },
    {
     "data": {
      "image/png": "[encoded data removed]",
      "text/plain": [
       "<Figure size 432x288 with 1 Axes>"
      ]
     },
     "metadata": {},
     "output_type": "display_data"
    },
    {
     "data": {
      "image/png": "[encoded data removed]",
      "text/plain": [
       "<Figure size 432x288 with 1 Axes>"
      ]
     },
     "metadata": {},
     "output_type": "display_data"
    }
   ],
   "source": [
    "plt.figure()\n",
    "plt.plot(np.abs(clf.coef_.T))\n",
    "\n",
    "inds = np.argsort(np.sum(np.abs(clf.coef_.T), 1))[::-1]\n",
    "print(nhanes_dataset.df_features.columns[inds])\n",
    "\n",
    "plt.figure()\n",
    "#plt.hist(nhanes_dataset.df_targets, density=True)\n",
    "#plt.hist(targets_trn, density=True)\n",
    "\n",
    "plt.hist([targets_trn,nhanes_dataset.df_targets], density=True, histtype='bar')\n"
   ]
  },
  {
   "cell_type": "code",
   "execution_count": 9,
   "metadata": {},
   "outputs": [
    {
     "data": {
      "text/plain": [
       "(27105, 1)"
      ]
     },
     "execution_count": 9,
     "metadata": {},
     "output_type": "execute_result"
    },
    {
     "data": {
      "image/png": "[encoded data removed]",
      "text/plain": [
       "<Figure size 432x288 with 1 Axes>"
      ]
     },
     "metadata": {},
     "output_type": "display_data"
    }
   ],
   "source": [
    "nhanes_dataset.column_data['LBXGLU'].plot.hist()\n",
    "nhanes_dataset.column_data['LBXGLU'].shape"
   ]
  },
  {
   "cell_type": "code",
   "execution_count": 10,
   "metadata": {},
   "outputs": [
    {
     "data": {
      "text/plain": [
       "LBXGLU    0.060173\n",
       "dtype: float64"
      ]
     },
     "execution_count": 10,
     "metadata": {},
     "output_type": "execute_result"
    }
   ],
   "source": [
    "nhanes_dataset.column_data['LBXGLU'].isna().mean()"
   ]
  },
  {
   "cell_type": "code",
   "execution_count": 11,
   "metadata": {},
   "outputs": [
    {
     "data": {
      "text/plain": [
       "LBXGLU    25474.0\n",
       "dtype: float64"
      ]
     },
     "execution_count": 11,
     "metadata": {},
     "output_type": "execute_result"
    }
   ],
   "source": [
    "(1-nhanes_dataset.column_data['LBXGLU'].isna().mean())*nhanes_dataset.column_data['LBXGLU'].shape[0]"
   ]
  }
 ],
 "metadata": {
  "kernelspec": {
   "display_name": "Python 3",
   "language": "python",
   "name": "python3"
  },
  "language_info": {
   "codemirror_mode": {
    "name": "ipython",
    "version": 3
   },
   "file_extension": ".py",
   "mimetype": "text/x-python",
   "name": "python",
   "nbconvert_exporter": "python",
   "pygments_lexer": "ipython3",
   "version": "3.6.5"
  }
 },
 "nbformat": 4,
 "nbformat_minor": 2
}
